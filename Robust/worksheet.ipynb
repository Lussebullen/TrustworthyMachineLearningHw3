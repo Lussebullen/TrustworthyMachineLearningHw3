{
 "cells": [
  {
   "cell_type": "code",
   "execution_count": 1,
   "metadata": {},
   "outputs": [
    {
     "name": "stderr",
     "output_type": "stream",
     "text": [
      "c:\\Users\\mathi\\miniconda3\\Lib\\site-packages\\torch\\_subclasses\\functional_tensor.py:258: UserWarning: Failed to initialize NumPy: DLL load failed while importing _multiarray_umath: The specified module could not be found. (Triggered internally at C:\\actions-runner\\_work\\pytorch\\pytorch\\builder\\windows\\pytorch\\torch\\csrc\\utils\\tensor_numpy.cpp:84.)\n",
      "  cpu = _conversion_method_template(device=torch.device(\"cpu\"))\n"
     ]
    }
   ],
   "source": [
    "# Put any functions you write for Question 1 here. \n",
    "import numpy as np\n",
    "import torch"
   ]
  },
  {
   "cell_type": "markdown",
   "metadata": {},
   "source": [
    "# Prepare Gradients"
   ]
  },
  {
   "cell_type": "code",
   "execution_count": null,
   "metadata": {},
   "outputs": [],
   "source": [
    "gradients = torch.load('all_gradients.pt')\n",
    "# Select entry 0 of dimension 2, seems to just be pos/neg copies.\n",
    "gradients = gradients.view(1545,2,768)[:,0,:].t()"
   ]
  },
  {
   "cell_type": "code",
   "execution_count": 2,
   "metadata": {},
   "outputs": [],
   "source": [
    "# For question 2, it would be helpful to define a function that returns the set of pruned gradients\n",
    "def robust_aggregator(gradients):\n",
    "    # Calculate covariance matrix\n",
    "    cov_matrix = torch.cov(gradients)\n",
    "    # Calculate eigenvalues and eigenvectors\n",
    "    spec_decomp = torch.linalg.eig(cov_matrix)\n",
    "    eig_vec = spec_decomp.eigenvectors.real\n",
    "    eig_val = spec_decomp.eigenvalues.real\n",
    "    # Run pruning procedure\n",
    "    pruned_gradients = gradients\n",
    "    return pruned_gradients\n"
   ]
  }
 ],
 "metadata": {
  "kernelspec": {
   "display_name": "base",
   "language": "python",
   "name": "python3"
  },
  "language_info": {
   "codemirror_mode": {
    "name": "ipython",
    "version": 3
   },
   "file_extension": ".py",
   "mimetype": "text/x-python",
   "name": "python",
   "nbconvert_exporter": "python",
   "pygments_lexer": "ipython3",
   "version": "3.12.3"
  }
 },
 "nbformat": 4,
 "nbformat_minor": 2
}
