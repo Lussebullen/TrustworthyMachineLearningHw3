{
 "cells": [
  {
   "cell_type": "code",
   "execution_count": 1,
   "metadata": {},
   "outputs": [
    {
     "name": "stderr",
     "output_type": "stream",
     "text": [
      "c:\\Users\\mathi\\miniconda3\\Lib\\site-packages\\torch\\_subclasses\\functional_tensor.py:258: UserWarning: Failed to initialize NumPy: DLL load failed while importing _multiarray_umath: The specified module could not be found. (Triggered internally at C:\\actions-runner\\_work\\pytorch\\pytorch\\builder\\windows\\pytorch\\torch\\csrc\\utils\\tensor_numpy.cpp:84.)\n",
      "  cpu = _conversion_method_template(device=torch.device(\"cpu\"))\n",
      "c:\\Users\\mathi\\miniconda3\\Lib\\site-packages\\tqdm\\auto.py:21: TqdmWarning: IProgress not found. Please update jupyter and ipywidgets. See https://ipywidgets.readthedocs.io/en/stable/user_install.html\n",
      "  from .autonotebook import tqdm as notebook_tqdm\n"
     ]
    }
   ],
   "source": [
    "import torch\n",
    "from transformers import AutoTokenizer\n",
    "from transformers.generation.logits_process import LogitsProcessor, LogitsProcessorList\n",
    "from transformers import GPT2LMHeadModel\n",
    "import random\n",
    "import numpy as np\n",
    "import sys\n",
    "from watermark import MyWatermarkedModel\n",
    "from watermark import MyWatermarkLogitsProcessor"
   ]
  },
  {
   "cell_type": "code",
   "execution_count": 97,
   "metadata": {},
   "outputs": [],
   "source": [
    "def query_model(input_str, model, tokenizer, max_new_tokens):\n",
    "    inputs = tokenizer(input_str, return_tensors=\"pt\")\n",
    "    outputs = model.generate(**inputs, max_new_tokens=max_new_tokens, return_dict_in_generate=True,\n",
    "                                output_scores=True)\n",
    "    print(outputs)\n",
    "    # Extract only the new tokens (generated part)\n",
    "    new_token_ids = outputs[0, len(inputs.input_ids[0]):]  # Only tokens after the input sequence\n",
    "\n",
    "    # Convert the new token IDs to tokens\n",
    "    new_tokens = tokenizer.convert_ids_to_tokens(new_token_ids)\n",
    "    return new_tokens\n",
    "\n",
    "def approximate_sampling(input_str, model, tokenizer, max_new_tokens):\n",
    "    inputs = tokenizer(input_str, return_tensors=\"pt\")\n",
    "    outputs = model.generate(**inputs, max_new_tokens=max_new_tokens, return_dict_in_generate=True,\n",
    "                                output_scores=True)\n",
    "    # Get the logits of the last token\n",
    "    scores = outputs.scores[0]\n",
    "    scores_processed = scores.clone().softmax(dim=-1)\n",
    "    cumsum = torch.cumsum(scores_processed, dim=-1)\n",
    "    print(cumsum)\n",
    "    return 0"
   ]
  },
  {
   "cell_type": "code",
   "execution_count": 87,
   "metadata": {},
   "outputs": [
    {
     "name": "stderr",
     "output_type": "stream",
     "text": [
      "C:\\Users\\mathi\\AppData\\Local\\Temp\\ipykernel_7020\\3912295169.py:6: FutureWarning: You are using `torch.load` with `weights_only=False` (the current default value), which uses the default pickle module implicitly. It is possible to construct malicious pickle data which will execute arbitrary code during unpickling (See https://github.com/pytorch/pytorch/blob/main/SECURITY.md#untrusted-models for more details). In a future release, the default value for `weights_only` will be flipped to `True`. This limits the functions that could be executed during unpickling. Arbitrary objects will no longer be allowed to be loaded via this mode unless they are explicitly allowlisted by the user via `torch.serialization.add_safe_globals`. We recommend you start setting `weights_only=True` for any use case where you don't have full control of the loaded file. Please open an issue on GitHub for any issues related to this experimental feature.\n",
      "  model = torch.load(\"./watermarked_model.pt\")\n"
     ]
    }
   ],
   "source": [
    "tokenizer = AutoTokenizer.from_pretrained(\"distilbert/distilgpt2\")\n",
    "# print(tokenizer.vocab)\n",
    "# Load MyWatermarkedModel from local model in ./Watermark/watermarked_model.pt\n",
    "model = torch.load(\"./watermarked_model.pt\")\n"
   ]
  },
  {
   "cell_type": "code",
   "execution_count": 122,
   "metadata": {},
   "outputs": [],
   "source": [
    "def generate_ranges(prompt, model, tokenizer):\n",
    "    MAX_NEW_TOKENS = 4 # last token is not watermarked for some reason, so need 4 to determine 3.\n",
    "\n",
    "    inputs = tokenizer(prompt, return_tensors=\"pt\")\n",
    "\n",
    "    n_input_tokens = len(inputs.input_ids[0])\n",
    "    # model.reset_seed()\n",
    "    outputs = model.generate(**inputs, max_new_tokens=MAX_NEW_TOKENS, return_dict_in_generate=True,\n",
    "                                output_scores=True)\n",
    "    # Extract only the new tokens (generated part)\n",
    "    new_token_ids = outputs.sequences.flatten()[n_input_tokens:-1]\n",
    "\n",
    "    ranges = [0]*(MAX_NEW_TOKENS-1)\n",
    "\n",
    "    for i, token in enumerate(new_token_ids):\n",
    "        scores = outputs.scores[i]\n",
    "        scores_processed = scores.clone().softmax(dim=-1)\n",
    "        cumsum = torch.cumsum(scores_processed, dim=-1).flatten()\n",
    "        r_range = (cumsum[token - 1].item() if token>0 else 0, cumsum[token].item())\n",
    "        ranges[i] = r_range\n",
    "    \n",
    "    return ranges"
   ]
  },
  {
   "cell_type": "code",
   "execution_count": 133,
   "metadata": {},
   "outputs": [],
   "source": [
    "def intersect_ranges_helper(range1, range2):\n",
    "    start = max(range1[0], range2[0])\n",
    "    end = min(range1[1], range2[1])\n",
    "\n",
    "    if start < end:\n",
    "        return (start, end)\n",
    "    else:\n",
    "        print(\"No intersection\")\n",
    "\n",
    "def intersect_ranges(ranges1, ranges2):\n",
    "    n = len(ranges1)\n",
    "    new_ranges = [0]*n\n",
    "    for i in range(n):\n",
    "        new_range = intersect_ranges_helper(ranges1[i], ranges2[i])\n",
    "        new_ranges[i] = new_range\n",
    "    return new_ranges"
   ]
  },
  {
   "cell_type": "code",
   "execution_count": 141,
   "metadata": {},
   "outputs": [
    {
     "name": "stdout",
     "output_type": "stream",
     "text": [
      "Reset seed\n",
      "tensor([2029,  262, 1692])\n",
      "Reset seed\n",
      "tensor([1903,  287,  262])\n",
      "Reset seed\n",
      "tensor([2683,  319,  262])\n",
      "Reset seed\n",
      "tensor([ 673, 1297,  262])\n",
      "Reset seed\n",
      "tensor([2029,  532,  262])\n",
      "Reset seed\n",
      "tensor([11301,    11,   262])\n",
      "Reset seed\n",
      "tensor([784, 351, 257])\n",
      "Reset seed\n",
      "tensor([1576,  284,  428])\n",
      "Reset seed\n",
      "tensor([1497,   13,  198])\n",
      "Reset seed\n",
      "tensor([1342,  290,  407])\n",
      "Reset seed\n",
      "tensor([ 1035,   290, 12198])\n",
      "Reset seed\n",
      "tensor([960, 392, 262])\n",
      "Reset seed\n",
      "tensor([878, 314, 550])\n",
      "Reset seed\n",
      "tensor([10574,  4973,    11])\n",
      "Reset seed\n",
      "tensor([994, 287, 262])\n",
      "Reset seed\n",
      "tensor([1521,  339,  373])\n",
      "Reset seed\n",
      "tensor([878, 663, 736])\n",
      "Reset seed\n",
      "tensor([1595,  470,  787])\n",
      "Reset seed\n",
      "tensor([663, 898, 835])\n",
      "Reset seed\n",
      "tensor([ 777, 3815,   11])\n",
      "Reset seed\n",
      "tensor([1129,  339,  373])\n",
      "Reset seed\n",
      "tensor([4893,  287,  262])\n",
      "Reset seed\n",
      "tensor([764, 383, 717])\n",
      "Reset seed\n",
      "tensor([1846,  647,   83])\n",
      "Reset seed\n",
      "tensor([6596,  319,  262])\n",
      "Reset seed\n",
      "tensor([3830,  262,  599])\n",
      "Reset seed\n",
      "tensor([5228,  286,  262])\n",
      "Reset seed\n",
      "tensor([2378,  198,  198])\n",
      "Reset seed\n",
      "tensor([508, 466, 356])\n",
      "Reset seed\n",
      "tensor([12125,   198,    40])\n",
      "[0.8903685212135315, 0.33347730338573456, 0.06990344822406769]\n"
     ]
    }
   ],
   "source": [
    "def crack_sampling():\n",
    "    # Load newlines separated prompts from prompts.txt\n",
    "    with open(\"prompts.txt\", \"r\") as f:\n",
    "        prompts = f.readlines()\n",
    "        # Remove all newlines\n",
    "        prompts = [prompt[:-1] for prompt in prompts]\n",
    "\n",
    "    ranges = generate_ranges(prompts[0], model, tokenizer)\n",
    "    for prompt in prompts[1:]:\n",
    "        new_ranges = generate_ranges(prompt, model, tokenizer)\n",
    "        ranges = intersect_ranges(ranges, new_ranges)\n",
    "    \n",
    "    return [np.mean(r) for r in ranges]\n",
    "\n",
    "print(crack_sampling())"
   ]
  },
  {
   "cell_type": "code",
   "execution_count": 134,
   "metadata": {},
   "outputs": [
    {
     "name": "stdout",
     "output_type": "stream",
     "text": [
      "Reset seed\n",
      "tensor([11067,   355,   262])\n",
      "[(0.8903032541275024, 0.8904215693473816), (0.1481592357158661, 0.7627849578857422), (0.058266088366508484, 0.09776140749454498)]\n",
      "Reset seed\n",
      "tensor([ 373, 4323,   11])\n",
      "[(0.8601219654083252, 0.897574782371521), (0.333407461643219, 0.33351337909698486), (0.002659732475876808, 0.081647589802742)]\n"
     ]
    },
    {
     "data": {
      "text/plain": [
       "[(0.8903032541275024, 0.8904215693473816),\n",
       " (0.333407461643219, 0.33351337909698486),\n",
       " (0.058266088366508484, 0.081647589802742)]"
      ]
     },
     "execution_count": 134,
     "metadata": {},
     "output_type": "execute_result"
    }
   ],
   "source": [
    "prompt1 = \"Dogs are mans best\"\n",
    "prompt2 = \"Hello, my name\"\n",
    "\n",
    "range1 = generate_ranges(prompt1, model, tokenizer)\n",
    "print(range1)\n",
    "range2 = generate_ranges(prompt2, model, tokenizer)\n",
    "print(range2)\n",
    "\n",
    "intersect_ranges(range1, range2)"
   ]
  },
  {
   "cell_type": "markdown",
   "metadata": {},
   "source": [
    "[0.8903685212135315, 0.33347730338573456, 0.06990344822406769]"
   ]
  },
  {
   "cell_type": "code",
   "execution_count": 143,
   "metadata": {},
   "outputs": [
    {
     "name": "stdout",
     "output_type": "stream",
     "text": [
      "0.8903685790566194\n",
      "0.33343684433351006\n",
      "0.0698845774182344\n"
     ]
    }
   ],
   "source": [
    "random.seed(model._MyWatermarkedModel__sk)\n",
    "for i in range(3):\n",
    "    print(random.random())"
   ]
  }
 ],
 "metadata": {
  "kernelspec": {
   "display_name": "base",
   "language": "python",
   "name": "python3"
  },
  "language_info": {
   "codemirror_mode": {
    "name": "ipython",
    "version": 3
   },
   "file_extension": ".py",
   "mimetype": "text/x-python",
   "name": "python",
   "nbconvert_exporter": "python",
   "pygments_lexer": "ipython3",
   "version": "3.12.3"
  }
 },
 "nbformat": 4,
 "nbformat_minor": 2
}
